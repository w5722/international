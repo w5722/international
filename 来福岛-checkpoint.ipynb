{
 "cells": [
  {
   "cell_type": "code",
   "execution_count": 6,
   "metadata": {},
   "outputs": [
    {
     "name": "stdout",
     "output_type": "stream",
     "text": [
      "http://down1.laifudao.com/tupian/20194313274.jpg\n",
      "http://down3.laifudao.com/tupian/201943132530.jpg\n",
      "http://down2.laifudao.com/tupian/201943132442.jpg\n",
      "http://down0.laifudao.com/tupian/201943132126.jpg\n",
      "http://down2.laifudao.com/tupian/201943131745.jpg\n",
      "http://down4.laifudao.com/tupian/201943125937.jpg\n",
      "http://down5.laifudao.com/tupian/201943125916.jpg\n",
      "http://down2.laifudao.com/tupian/201943125815.jpg\n",
      "http://down2.laifudao.com/tupian/201943125640.jpg\n",
      "http://down2.laifudao.com/tupian/201943125613.jpg\n",
      "http://down3.laifudao.com/tupian/201943125327.jpg\n",
      "http://down1.laifudao.com/tupian/201943125254.jpg\n",
      "http://down1.laifudao.com/tupian/201943125122.jpg\n",
      "http://down2.laifudao.com/tupian/201943125038.jpg\n",
      "http://down2.laifudao.com/tupian/20194312507.jpg\n",
      "http://down1.laifudao.com/tupian/20194212267.jpg\n",
      "http://down2.laifudao.com/tupian/201942122237.jpg\n",
      "http://down1.laifudao.com/tupian/201942122015.jpg\n",
      "http://down1.laifudao.com/tupian/20194212196.jpg\n",
      "http://down3.laifudao.com/tupian/201942121819.jpg\n"
     ]
    }
   ],
   "source": [
    "# python3.6.5\n",
    "# 需要引入requests包 ：运行终端->进入python/Scripts ->输入：pip install requests\n",
    "from ShowapiRequest import ShowapiRequest\n",
    "import json\n",
    " \n",
    "    \n",
    "r = ShowapiRequest(\"http://route.showapi.com/107-33\",\"91298\",\"e31192b8bd3444ff814fcea4933e97d6\" )\n",
    "# r.addFilePara(\"img\", r\"C:\\Users\\showa\\Desktop\\使用过的\\4.png\") #文件上传时设置\n",
    "res = r.post()\n",
    "# print(res.text) # 返回信息\n",
    "\n",
    "response = json.loads(res.text)\n",
    "\n",
    "for i in range(0,20):\n",
    "    print(response[\"showapi_res_body\"][\"list\"][i][\"sourceurl\"])\n"
   ]
  },
  {
   "cell_type": "code",
   "execution_count": null,
   "metadata": {},
   "outputs": [],
   "source": []
  }
 ],
 "metadata": {
  "kernelspec": {
   "display_name": "Python 3",
   "language": "python",
   "name": "python3"
  },
  "language_info": {
   "codemirror_mode": {
    "name": "ipython",
    "version": 3
   },
   "file_extension": ".py",
   "mimetype": "text/x-python",
   "name": "python",
   "nbconvert_exporter": "python",
   "pygments_lexer": "ipython3",
   "version": "3.7.1"
  }
 },
 "nbformat": 4,
 "nbformat_minor": 2
}
